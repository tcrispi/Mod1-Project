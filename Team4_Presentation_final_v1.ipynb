{
 "cells": [
  {
   "cell_type": "markdown",
   "metadata": {},
   "source": [
    "## Intro"
   ]
  },
  {
   "cell_type": "code",
   "execution_count": 36,
   "metadata": {},
   "outputs": [],
   "source": [
    "import pandas as pd\n",
    "import numpy as np\n",
    "import matplotlib.pyplot as plt\n",
    "%matplotlib inline "
   ]
  },
  {
   "cell_type": "code",
   "execution_count": 37,
   "metadata": {},
   "outputs": [],
   "source": [
    "df = pd.read_csv('cathy/data/title_budgets_ratings_v3.csv', index_col = 0)"
   ]
  },
  {
   "cell_type": "code",
   "execution_count": 39,
   "metadata": {},
   "outputs": [
    {
     "data": {
      "text/html": [
       "<div>\n",
       "<style scoped>\n",
       "    .dataframe tbody tr th:only-of-type {\n",
       "        vertical-align: middle;\n",
       "    }\n",
       "\n",
       "    .dataframe tbody tr th {\n",
       "        vertical-align: top;\n",
       "    }\n",
       "\n",
       "    .dataframe thead th {\n",
       "        text-align: right;\n",
       "    }\n",
       "</style>\n",
       "<table border=\"1\" class=\"dataframe\">\n",
       "  <thead>\n",
       "    <tr style=\"text-align: right;\">\n",
       "      <th></th>\n",
       "      <th>id</th>\n",
       "      <th>release_date</th>\n",
       "      <th>movie</th>\n",
       "      <th>tconst</th>\n",
       "      <th>primary_title</th>\n",
       "      <th>original_title</th>\n",
       "      <th>start_year</th>\n",
       "      <th>runtime_minutes</th>\n",
       "      <th>genres</th>\n",
       "      <th>averagerating</th>\n",
       "      <th>numvotes</th>\n",
       "      <th>year</th>\n",
       "      <th>month</th>\n",
       "      <th>production_budget_2</th>\n",
       "      <th>domestic_gross_2</th>\n",
       "      <th>worldwide_gross_2</th>\n",
       "      <th>genres2</th>\n",
       "      <th>profit_multiple</th>\n",
       "    </tr>\n",
       "  </thead>\n",
       "  <tbody>\n",
       "    <tr>\n",
       "      <th>0</th>\n",
       "      <td>1</td>\n",
       "      <td>2009-12-18</td>\n",
       "      <td>Avatar</td>\n",
       "      <td>tt1775309</td>\n",
       "      <td>Avatar</td>\n",
       "      <td>Abatâ</td>\n",
       "      <td>2011</td>\n",
       "      <td>93.0</td>\n",
       "      <td>Horror</td>\n",
       "      <td>6.1</td>\n",
       "      <td>43</td>\n",
       "      <td>2009</td>\n",
       "      <td>12</td>\n",
       "      <td>425000000</td>\n",
       "      <td>760507625</td>\n",
       "      <td>2776345279</td>\n",
       "      <td>['Horror']</td>\n",
       "      <td>5.532577</td>\n",
       "    </tr>\n",
       "    <tr>\n",
       "      <th>1</th>\n",
       "      <td>2</td>\n",
       "      <td>2011-05-20</td>\n",
       "      <td>Pirates of the Caribbean: On Stranger Tides</td>\n",
       "      <td>tt1298650</td>\n",
       "      <td>Pirates of the Caribbean: On Stranger Tides</td>\n",
       "      <td>Pirates of the Caribbean: On Stranger Tides</td>\n",
       "      <td>2011</td>\n",
       "      <td>136.0</td>\n",
       "      <td>Action,Adventure,Fantasy</td>\n",
       "      <td>6.6</td>\n",
       "      <td>447624</td>\n",
       "      <td>2011</td>\n",
       "      <td>5</td>\n",
       "      <td>410600000</td>\n",
       "      <td>241063875</td>\n",
       "      <td>1045663875</td>\n",
       "      <td>['Action', 'Adventure', 'Fantasy']</td>\n",
       "      <td>1.546673</td>\n",
       "    </tr>\n",
       "    <tr>\n",
       "      <th>2</th>\n",
       "      <td>3</td>\n",
       "      <td>2019-06-07</td>\n",
       "      <td>Dark Phoenix</td>\n",
       "      <td>tt6565702</td>\n",
       "      <td>Dark Phoenix</td>\n",
       "      <td>Dark Phoenix</td>\n",
       "      <td>2019</td>\n",
       "      <td>113.0</td>\n",
       "      <td>Action,Adventure,Sci-Fi</td>\n",
       "      <td>6.0</td>\n",
       "      <td>24451</td>\n",
       "      <td>2019</td>\n",
       "      <td>6</td>\n",
       "      <td>350000000</td>\n",
       "      <td>42762350</td>\n",
       "      <td>149762350</td>\n",
       "      <td>['Action', 'Adventure', 'Sci-Fi']</td>\n",
       "      <td>-0.572108</td>\n",
       "    </tr>\n",
       "    <tr>\n",
       "      <th>3</th>\n",
       "      <td>4</td>\n",
       "      <td>2015-05-01</td>\n",
       "      <td>Avengers: Age of Ultron</td>\n",
       "      <td>tt2395427</td>\n",
       "      <td>Avengers: Age of Ultron</td>\n",
       "      <td>Avengers: Age of Ultron</td>\n",
       "      <td>2015</td>\n",
       "      <td>141.0</td>\n",
       "      <td>Action,Adventure,Sci-Fi</td>\n",
       "      <td>7.3</td>\n",
       "      <td>665594</td>\n",
       "      <td>2015</td>\n",
       "      <td>5</td>\n",
       "      <td>330600000</td>\n",
       "      <td>459005868</td>\n",
       "      <td>1403013963</td>\n",
       "      <td>['Action', 'Adventure', 'Sci-Fi']</td>\n",
       "      <td>3.243841</td>\n",
       "    </tr>\n",
       "    <tr>\n",
       "      <th>4</th>\n",
       "      <td>7</td>\n",
       "      <td>2018-04-27</td>\n",
       "      <td>Avengers: Infinity War</td>\n",
       "      <td>tt4154756</td>\n",
       "      <td>Avengers: Infinity War</td>\n",
       "      <td>Avengers: Infinity War</td>\n",
       "      <td>2018</td>\n",
       "      <td>149.0</td>\n",
       "      <td>Action,Adventure,Sci-Fi</td>\n",
       "      <td>8.5</td>\n",
       "      <td>670926</td>\n",
       "      <td>2018</td>\n",
       "      <td>4</td>\n",
       "      <td>300000000</td>\n",
       "      <td>678815482</td>\n",
       "      <td>2048134200</td>\n",
       "      <td>['Action', 'Adventure', 'Sci-Fi']</td>\n",
       "      <td>5.827114</td>\n",
       "    </tr>\n",
       "  </tbody>\n",
       "</table>\n",
       "</div>"
      ],
      "text/plain": [
       "   id release_date                                        movie     tconst  \\\n",
       "0   1   2009-12-18                                       Avatar  tt1775309   \n",
       "1   2   2011-05-20  Pirates of the Caribbean: On Stranger Tides  tt1298650   \n",
       "2   3   2019-06-07                                 Dark Phoenix  tt6565702   \n",
       "3   4   2015-05-01                      Avengers: Age of Ultron  tt2395427   \n",
       "4   7   2018-04-27                       Avengers: Infinity War  tt4154756   \n",
       "\n",
       "                                 primary_title  \\\n",
       "0                                       Avatar   \n",
       "1  Pirates of the Caribbean: On Stranger Tides   \n",
       "2                                 Dark Phoenix   \n",
       "3                      Avengers: Age of Ultron   \n",
       "4                       Avengers: Infinity War   \n",
       "\n",
       "                                original_title  start_year  runtime_minutes  \\\n",
       "0                                        Abatâ        2011             93.0   \n",
       "1  Pirates of the Caribbean: On Stranger Tides        2011            136.0   \n",
       "2                                 Dark Phoenix        2019            113.0   \n",
       "3                      Avengers: Age of Ultron        2015            141.0   \n",
       "4                       Avengers: Infinity War        2018            149.0   \n",
       "\n",
       "                     genres  averagerating  numvotes  year  month  \\\n",
       "0                    Horror            6.1        43  2009     12   \n",
       "1  Action,Adventure,Fantasy            6.6    447624  2011      5   \n",
       "2   Action,Adventure,Sci-Fi            6.0     24451  2019      6   \n",
       "3   Action,Adventure,Sci-Fi            7.3    665594  2015      5   \n",
       "4   Action,Adventure,Sci-Fi            8.5    670926  2018      4   \n",
       "\n",
       "   production_budget_2  domestic_gross_2  worldwide_gross_2  \\\n",
       "0            425000000         760507625         2776345279   \n",
       "1            410600000         241063875         1045663875   \n",
       "2            350000000          42762350          149762350   \n",
       "3            330600000         459005868         1403013963   \n",
       "4            300000000         678815482         2048134200   \n",
       "\n",
       "                              genres2  profit_multiple  \n",
       "0                          ['Horror']         5.532577  \n",
       "1  ['Action', 'Adventure', 'Fantasy']         1.546673  \n",
       "2   ['Action', 'Adventure', 'Sci-Fi']        -0.572108  \n",
       "3   ['Action', 'Adventure', 'Sci-Fi']         3.243841  \n",
       "4   ['Action', 'Adventure', 'Sci-Fi']         5.827114  "
      ]
     },
     "execution_count": 39,
     "metadata": {},
     "output_type": "execute_result"
    }
   ],
   "source": [
    "df.head()"
   ]
  },
  {
   "cell_type": "code",
   "execution_count": 40,
   "metadata": {},
   "outputs": [
    {
     "data": {
      "text/plain": [
       "(2943, 18)"
      ]
     },
     "execution_count": 40,
     "metadata": {},
     "output_type": "execute_result"
    }
   ],
   "source": [
    "df.shape"
   ]
  },
  {
   "cell_type": "code",
   "execution_count": 41,
   "metadata": {},
   "outputs": [
    {
     "data": {
      "text/plain": [
       "2014    384\n",
       "2015    365\n",
       "2013    347\n",
       "2011    336\n",
       "2010    319\n",
       "2012    317\n",
       "2016    316\n",
       "2017    251\n",
       "2018    229\n",
       "2019     79\n",
       "Name: start_year, dtype: int64"
      ]
     },
     "execution_count": 41,
     "metadata": {},
     "output_type": "execute_result"
    }
   ],
   "source": [
    "# Distribution of start_years.\n",
    "df.start_year.value_counts()"
   ]
  },
  {
   "cell_type": "markdown",
   "metadata": {},
   "source": [
    "## profitability X rating\n",
    "First, we investigate if high rating correlates with high profitability for 2943 movies that have gross box office and budget data. \n",
    "\n",
    "Our profitability is defined as:\n",
    "$Profitability multiple = \\dfrac{(worldwide gross - production budget)}{production budget}$"
   ]
  },
  {
   "cell_type": "code",
   "execution_count": 42,
   "metadata": {},
   "outputs": [
    {
     "data": {
      "text/plain": [
       "id                       0\n",
       "release_date             0\n",
       "movie                    0\n",
       "tconst                   0\n",
       "primary_title            0\n",
       "original_title           0\n",
       "start_year               0\n",
       "runtime_minutes        121\n",
       "genres                   8\n",
       "averagerating            0\n",
       "numvotes                 0\n",
       "year                     0\n",
       "month                    0\n",
       "production_budget_2      0\n",
       "domestic_gross_2         0\n",
       "worldwide_gross_2        0\n",
       "genres2                  8\n",
       "profit_multiple          0\n",
       "dtype: int64"
      ]
     },
     "execution_count": 42,
     "metadata": {},
     "output_type": "execute_result"
    }
   ],
   "source": [
    "df.isna().sum()"
   ]
  },
  {
   "cell_type": "code",
   "execution_count": 8,
   "metadata": {},
   "outputs": [
    {
     "data": {
      "text/html": [
       "<div>\n",
       "<style scoped>\n",
       "    .dataframe tbody tr th:only-of-type {\n",
       "        vertical-align: middle;\n",
       "    }\n",
       "\n",
       "    .dataframe tbody tr th {\n",
       "        vertical-align: top;\n",
       "    }\n",
       "\n",
       "    .dataframe thead th {\n",
       "        text-align: right;\n",
       "    }\n",
       "</style>\n",
       "<table border=\"1\" class=\"dataframe\">\n",
       "  <thead>\n",
       "    <tr style=\"text-align: right;\">\n",
       "      <th></th>\n",
       "      <th>id</th>\n",
       "      <th>release_date</th>\n",
       "      <th>movie</th>\n",
       "      <th>tconst</th>\n",
       "      <th>primary_title</th>\n",
       "      <th>original_title</th>\n",
       "      <th>start_year</th>\n",
       "      <th>runtime_minutes</th>\n",
       "      <th>genres</th>\n",
       "      <th>averagerating</th>\n",
       "      <th>numvotes</th>\n",
       "      <th>year</th>\n",
       "      <th>month</th>\n",
       "      <th>production_budget_2</th>\n",
       "      <th>domestic_gross_2</th>\n",
       "      <th>worldwide_gross_2</th>\n",
       "      <th>genres2</th>\n",
       "      <th>profit_multiple</th>\n",
       "    </tr>\n",
       "  </thead>\n",
       "  <tbody>\n",
       "    <tr>\n",
       "      <th>32</th>\n",
       "      <td>43</td>\n",
       "      <td>1997-12-19</td>\n",
       "      <td>Titanic</td>\n",
       "      <td>tt2495766</td>\n",
       "      <td>Titanic</td>\n",
       "      <td>Titanic</td>\n",
       "      <td>2012</td>\n",
       "      <td>NaN</td>\n",
       "      <td>Adventure</td>\n",
       "      <td>6.2</td>\n",
       "      <td>20</td>\n",
       "      <td>1997</td>\n",
       "      <td>12</td>\n",
       "      <td>200000000</td>\n",
       "      <td>659363944</td>\n",
       "      <td>2208208395</td>\n",
       "      <td>['Adventure']</td>\n",
       "      <td>10.041042</td>\n",
       "    </tr>\n",
       "  </tbody>\n",
       "</table>\n",
       "</div>"
      ],
      "text/plain": [
       "    id release_date    movie     tconst primary_title original_title  \\\n",
       "32  43   1997-12-19  Titanic  tt2495766       Titanic        Titanic   \n",
       "\n",
       "    start_year  runtime_minutes     genres  averagerating  numvotes  year  \\\n",
       "32        2012              NaN  Adventure            6.2        20  1997   \n",
       "\n",
       "    month  production_budget_2  domestic_gross_2  worldwide_gross_2  \\\n",
       "32     12            200000000         659363944         2208208395   \n",
       "\n",
       "          genres2  profit_multiple  \n",
       "32  ['Adventure']        10.041042  "
      ]
     },
     "execution_count": 8,
     "metadata": {},
     "output_type": "execute_result"
    }
   ],
   "source": [
    "# We won't drop rows with null in 'runtime_minutes' because \n",
    "# some big productions, such as Titanic, are missing value.\n",
    "df.loc[df['movie']== 'Titanic']"
   ]
  },
  {
   "cell_type": "code",
   "execution_count": 9,
   "metadata": {},
   "outputs": [],
   "source": [
    "# Drop the 282 productions where worldwide gross revenue is zero.\n",
    "df = df[df['worldwide_gross_2']!=0]\n",
    "\n",
    "# Drop 43 productions that have profit multiple over 30.\n",
    "df = df[df['profit_multiple']<= 30]"
   ]
  },
  {
   "cell_type": "code",
   "execution_count": 10,
   "metadata": {},
   "outputs": [
    {
     "data": {
      "text/plain": [
       "(2618, 18)"
      ]
     },
     "execution_count": 10,
     "metadata": {},
     "output_type": "execute_result"
    }
   ],
   "source": [
    "df.shape"
   ]
  },
  {
   "cell_type": "code",
   "execution_count": 11,
   "metadata": {},
   "outputs": [
    {
     "data": {
      "image/png": "[encoded data removed]",
      "text/plain": [
       "<Figure size 1296x576 with 1 Axes>"
      ]
     },
     "metadata": {
      "needs_background": "light"
     },
     "output_type": "display_data"
    }
   ],
   "source": [
    "fig = plt.figure(figsize = (18,8))\n",
    "plt.scatter(df['averagerating'], df['profit_multiple'])\n",
    "plt.title('Scatter Plot of profit multiple over movie rating')\n",
    "plt.xlabel('Average Rating')\n",
    "plt.ylabel('Profit Multiple')\n",
    "plt.show()"
   ]
  },
  {
   "cell_type": "markdown",
   "metadata": {},
   "source": [
    "## Gross revenue and profitability by movie genre\n"
   ]
  },
  {
   "cell_type": "code",
   "execution_count": 12,
   "metadata": {},
   "outputs": [],
   "source": [
    "# Split genre strings as list of genres. \n",
    "df['genres3'] = list(df['genres'].str.split(','))"
   ]
  },
  {
   "cell_type": "code",
   "execution_count": 13,
   "metadata": {},
   "outputs": [],
   "source": [
    "# Drop the 8 movies where genres are null.\n",
    "df = df.dropna(subset = ['genres3'])"
   ]
  },
  {
   "cell_type": "code",
   "execution_count": 14,
   "metadata": {},
   "outputs": [
    {
     "data": {
      "text/plain": [
       "(2610, 19)"
      ]
     },
     "execution_count": 14,
     "metadata": {},
     "output_type": "execute_result"
    }
   ],
   "source": [
    "df.shape"
   ]
  },
  {
   "cell_type": "code",
   "execution_count": 15,
   "metadata": {},
   "outputs": [],
   "source": [
    "# define function get_genres that takes df and returns avg_revenue, avg_profit, avg_budget for a given genre. \n",
    "\n",
    "def get_genres(df, genre):\n",
    "    revenue_list = []\n",
    "    profit_list = []\n",
    "    budget_list = []\n",
    "    for i in range(len(df)):\n",
    "        if genre in df['genres3'].iloc[i]:\n",
    "            revenue_list.append(df['worldwide_gross_2'].iloc[i])\n",
    "            profit_list.append(df['profit_multiple'].iloc[i])\n",
    "            budget_list.append(df['production_budget_2'].iloc[i])\n",
    "    avg_revenue = round(sum(revenue_list)/len(revenue_list),2)\n",
    "    avg_profit = round(sum(profit_list)/len(profit_list),2)\n",
    "    avg_budget = round(sum(budget_list)/len(budget_list),2)\n",
    "    return avg_revenue, avg_profit, avg_budget, genre"
   ]
  },
  {
   "cell_type": "code",
   "execution_count": 16,
   "metadata": {},
   "outputs": [
    {
     "data": {
      "text/plain": [
       "[203026877.28, 1.8, 69723282.57, 'Action']"
      ]
     },
     "execution_count": 16,
     "metadata": {},
     "output_type": "execute_result"
    }
   ],
   "source": [
    "# Do a test for genre type 'Action'.\n",
    "test = list(get_genres(df,'Action'))\n",
    "test"
   ]
  },
  {
   "cell_type": "code",
   "execution_count": 17,
   "metadata": {},
   "outputs": [
    {
     "data": {
      "text/plain": [
       "['Horror',\n",
       " 'Action',\n",
       " 'Adventure',\n",
       " 'Fantasy',\n",
       " 'Sci-Fi',\n",
       " 'Thriller',\n",
       " 'Western',\n",
       " 'Animation',\n",
       " 'Comedy',\n",
       " 'Family',\n",
       " 'Crime',\n",
       " 'Drama',\n",
       " 'Musical',\n",
       " 'Romance',\n",
       " 'Mystery',\n",
       " 'Documentary',\n",
       " 'Biography',\n",
       " 'History',\n",
       " 'Sport',\n",
       " 'War',\n",
       " 'Music',\n",
       " 'News']"
      ]
     },
     "execution_count": 17,
     "metadata": {},
     "output_type": "execute_result"
    }
   ],
   "source": [
    "# create a list of unique genres.\n",
    "genres_unique =[]\n",
    "for i in range(len(df)):\n",
    "    for n in range(len(df['genres3'].iloc[i])):\n",
    "        if df['genres3'].iloc[i][n] not in genres_unique:\n",
    "            genres_unique.append(df['genres3'].iloc[i][n])\n",
    "genres_unique"
   ]
  },
  {
   "cell_type": "code",
   "execution_count": 18,
   "metadata": {},
   "outputs": [],
   "source": [
    "# We make a new DataFrame, df_genre, to store all genre types and their revenue and profit multiples. \n",
    "genres_list = []\n",
    "for i in genres_unique:\n",
    "    genres_list.append(list(get_genres(df,i)))\n",
    "df_genre = pd.DataFrame(genres_list, columns=['revenue', 'profit', 'budget', 'genre'])"
   ]
  },
  {
   "cell_type": "code",
   "execution_count": 19,
   "metadata": {},
   "outputs": [
    {
     "data": {
      "text/html": [
       "<div>\n",
       "<style scoped>\n",
       "    .dataframe tbody tr th:only-of-type {\n",
       "        vertical-align: middle;\n",
       "    }\n",
       "\n",
       "    .dataframe tbody tr th {\n",
       "        vertical-align: top;\n",
       "    }\n",
       "\n",
       "    .dataframe thead th {\n",
       "        text-align: right;\n",
       "    }\n",
       "</style>\n",
       "<table border=\"1\" class=\"dataframe\">\n",
       "  <thead>\n",
       "    <tr style=\"text-align: right;\">\n",
       "      <th></th>\n",
       "      <th>revenue</th>\n",
       "      <th>profit</th>\n",
       "      <th>budget</th>\n",
       "      <th>genre</th>\n",
       "    </tr>\n",
       "  </thead>\n",
       "  <tbody>\n",
       "    <tr>\n",
       "      <th>0</th>\n",
       "      <td>7.414387e+07</td>\n",
       "      <td>3.95</td>\n",
       "      <td>21836018.40</td>\n",
       "      <td>Horror</td>\n",
       "    </tr>\n",
       "    <tr>\n",
       "      <th>1</th>\n",
       "      <td>2.030269e+08</td>\n",
       "      <td>1.80</td>\n",
       "      <td>69723282.57</td>\n",
       "      <td>Action</td>\n",
       "    </tr>\n",
       "    <tr>\n",
       "      <th>2</th>\n",
       "      <td>3.121947e+08</td>\n",
       "      <td>2.06</td>\n",
       "      <td>95346204.84</td>\n",
       "      <td>Adventure</td>\n",
       "    </tr>\n",
       "    <tr>\n",
       "      <th>3</th>\n",
       "      <td>2.253270e+08</td>\n",
       "      <td>2.49</td>\n",
       "      <td>73848502.99</td>\n",
       "      <td>Fantasy</td>\n",
       "    </tr>\n",
       "    <tr>\n",
       "      <th>4</th>\n",
       "      <td>2.690445e+08</td>\n",
       "      <td>2.30</td>\n",
       "      <td>76636590.23</td>\n",
       "      <td>Sci-Fi</td>\n",
       "    </tr>\n",
       "    <tr>\n",
       "      <th>5</th>\n",
       "      <td>9.150416e+07</td>\n",
       "      <td>2.52</td>\n",
       "      <td>31829879.71</td>\n",
       "      <td>Thriller</td>\n",
       "    </tr>\n",
       "    <tr>\n",
       "      <th>6</th>\n",
       "      <td>9.381950e+07</td>\n",
       "      <td>0.52</td>\n",
       "      <td>50414285.71</td>\n",
       "      <td>Western</td>\n",
       "    </tr>\n",
       "    <tr>\n",
       "      <th>7</th>\n",
       "      <td>3.281689e+08</td>\n",
       "      <td>2.52</td>\n",
       "      <td>89474218.75</td>\n",
       "      <td>Animation</td>\n",
       "    </tr>\n",
       "    <tr>\n",
       "      <th>8</th>\n",
       "      <td>1.151357e+08</td>\n",
       "      <td>2.18</td>\n",
       "      <td>36458739.80</td>\n",
       "      <td>Comedy</td>\n",
       "    </tr>\n",
       "    <tr>\n",
       "      <th>9</th>\n",
       "      <td>1.734268e+08</td>\n",
       "      <td>2.04</td>\n",
       "      <td>56369548.87</td>\n",
       "      <td>Family</td>\n",
       "    </tr>\n",
       "    <tr>\n",
       "      <th>10</th>\n",
       "      <td>7.345670e+07</td>\n",
       "      <td>1.21</td>\n",
       "      <td>30112662.72</td>\n",
       "      <td>Crime</td>\n",
       "    </tr>\n",
       "    <tr>\n",
       "      <th>11</th>\n",
       "      <td>6.629445e+07</td>\n",
       "      <td>1.93</td>\n",
       "      <td>25555166.77</td>\n",
       "      <td>Drama</td>\n",
       "    </tr>\n",
       "    <tr>\n",
       "      <th>12</th>\n",
       "      <td>2.068257e+08</td>\n",
       "      <td>2.78</td>\n",
       "      <td>43864285.71</td>\n",
       "      <td>Musical</td>\n",
       "    </tr>\n",
       "    <tr>\n",
       "      <th>13</th>\n",
       "      <td>6.751644e+07</td>\n",
       "      <td>2.49</td>\n",
       "      <td>21933430.42</td>\n",
       "      <td>Romance</td>\n",
       "    </tr>\n",
       "    <tr>\n",
       "      <th>14</th>\n",
       "      <td>7.647052e+07</td>\n",
       "      <td>3.51</td>\n",
       "      <td>24853273.31</td>\n",
       "      <td>Mystery</td>\n",
       "    </tr>\n",
       "    <tr>\n",
       "      <th>15</th>\n",
       "      <td>6.357487e+07</td>\n",
       "      <td>1.53</td>\n",
       "      <td>25081783.92</td>\n",
       "      <td>Documentary</td>\n",
       "    </tr>\n",
       "    <tr>\n",
       "      <th>16</th>\n",
       "      <td>7.268129e+07</td>\n",
       "      <td>1.80</td>\n",
       "      <td>26305981.37</td>\n",
       "      <td>Biography</td>\n",
       "    </tr>\n",
       "    <tr>\n",
       "      <th>17</th>\n",
       "      <td>7.646640e+07</td>\n",
       "      <td>1.01</td>\n",
       "      <td>32180281.69</td>\n",
       "      <td>History</td>\n",
       "    </tr>\n",
       "    <tr>\n",
       "      <th>18</th>\n",
       "      <td>7.697454e+07</td>\n",
       "      <td>0.95</td>\n",
       "      <td>26540000.00</td>\n",
       "      <td>Sport</td>\n",
       "    </tr>\n",
       "    <tr>\n",
       "      <th>19</th>\n",
       "      <td>4.258823e+07</td>\n",
       "      <td>0.46</td>\n",
       "      <td>23423076.92</td>\n",
       "      <td>War</td>\n",
       "    </tr>\n",
       "    <tr>\n",
       "      <th>20</th>\n",
       "      <td>6.804449e+07</td>\n",
       "      <td>2.67</td>\n",
       "      <td>15459729.73</td>\n",
       "      <td>Music</td>\n",
       "    </tr>\n",
       "    <tr>\n",
       "      <th>21</th>\n",
       "      <td>3.668208e+07</td>\n",
       "      <td>0.95</td>\n",
       "      <td>16600000.00</td>\n",
       "      <td>News</td>\n",
       "    </tr>\n",
       "  </tbody>\n",
       "</table>\n",
       "</div>"
      ],
      "text/plain": [
       "         revenue  profit       budget        genre\n",
       "0   7.414387e+07    3.95  21836018.40       Horror\n",
       "1   2.030269e+08    1.80  69723282.57       Action\n",
       "2   3.121947e+08    2.06  95346204.84    Adventure\n",
       "3   2.253270e+08    2.49  73848502.99      Fantasy\n",
       "4   2.690445e+08    2.30  76636590.23       Sci-Fi\n",
       "5   9.150416e+07    2.52  31829879.71     Thriller\n",
       "6   9.381950e+07    0.52  50414285.71      Western\n",
       "7   3.281689e+08    2.52  89474218.75    Animation\n",
       "8   1.151357e+08    2.18  36458739.80       Comedy\n",
       "9   1.734268e+08    2.04  56369548.87       Family\n",
       "10  7.345670e+07    1.21  30112662.72        Crime\n",
       "11  6.629445e+07    1.93  25555166.77        Drama\n",
       "12  2.068257e+08    2.78  43864285.71      Musical\n",
       "13  6.751644e+07    2.49  21933430.42      Romance\n",
       "14  7.647052e+07    3.51  24853273.31      Mystery\n",
       "15  6.357487e+07    1.53  25081783.92  Documentary\n",
       "16  7.268129e+07    1.80  26305981.37    Biography\n",
       "17  7.646640e+07    1.01  32180281.69      History\n",
       "18  7.697454e+07    0.95  26540000.00        Sport\n",
       "19  4.258823e+07    0.46  23423076.92          War\n",
       "20  6.804449e+07    2.67  15459729.73        Music\n",
       "21  3.668208e+07    0.95  16600000.00         News"
      ]
     },
     "execution_count": 19,
     "metadata": {},
     "output_type": "execute_result"
    }
   ],
   "source": [
    "# Look at the new DataFrame.\n",
    "\n",
    "df_genre"
   ]
  },
  {
   "cell_type": "code",
   "execution_count": 20,
   "metadata": {},
   "outputs": [],
   "source": [
    "# set genre as index: \n",
    "df_genre = df_genre.set_index('genre')"
   ]
  },
  {
   "cell_type": "code",
   "execution_count": 21,
   "metadata": {},
   "outputs": [],
   "source": [
    "# Sort genres by average revenue.\n",
    "df_genre_rev = df_genre.sort_values(by=['revenue'], ascending = False)['revenue']"
   ]
  },
  {
   "cell_type": "code",
   "execution_count": 22,
   "metadata": {},
   "outputs": [],
   "source": [
    "# Convert revenue unit to millions. \n",
    "df_genre_rev = df_genre_rev/1000000 "
   ]
  },
  {
   "cell_type": "code",
   "execution_count": 23,
   "metadata": {},
   "outputs": [
    {
     "data": {
      "image/png": "[encoded data removed]",
      "text/plain": [
       "<Figure size 1296x576 with 1 Axes>"
      ]
     },
     "metadata": {
      "needs_background": "light"
     },
     "output_type": "display_data"
    }
   ],
   "source": [
    "# Plot revenue by genre in descending order: \n",
    "plt.figure(figsize = (18,8))\n",
    "df_genre_rev.plot.bar(rot=45)\n",
    "plt.title('Average Worldwide Movie Revenue by Genre')\n",
    "plt.xlabel('Genres')\n",
    "plt.ylabel('Revenue ($million)')\n",
    "plt.show()"
   ]
  },
  {
   "cell_type": "code",
   "execution_count": 24,
   "metadata": {},
   "outputs": [
    {
     "data": {
      "image/png": "[encoded data removed]",
      "text/plain": [
       "<Figure size 1296x576 with 1 Axes>"
      ]
     },
     "metadata": {
      "needs_background": "light"
     },
     "output_type": "display_data"
    }
   ],
   "source": [
    "# Plot bar charts for profitability and average budget: \n",
    "df_genre_profit = df_genre.sort_values(by=['profit'], ascending = False)['profit']\n",
    "\n",
    "plt.figure(figsize = (18,8))\n",
    "df_genre_profit.plot.bar(rot=45)\n",
    "plt.title('Average Worldwide Movie Profit Multiple by Genre')\n",
    "plt.xlabel('Genres')\n",
    "plt.ylabel('Profit Multiple = (revenue - budget)/budget')\n",
    "plt.show()"
   ]
  },
  {
   "cell_type": "code",
   "execution_count": 25,
   "metadata": {},
   "outputs": [
    {
     "data": {
      "image/png": "[encoded data removed]",
      "text/plain": [
       "<Figure size 1296x576 with 1 Axes>"
      ]
     },
     "metadata": {
      "needs_background": "light"
     },
     "output_type": "display_data"
    }
   ],
   "source": [
    "df_genre_budget = df_genre.sort_values(by=['budget'], ascending = False)['budget']\n",
    "df_genre_budget = df_genre_budget/1000000\n",
    "\n",
    "plt.figure(figsize = (18,8))\n",
    "df_genre_budget.plot.bar(rot=45)\n",
    "plt.title('Average Worldwide Movie Production Budget by Genre')\n",
    "plt.xlabel('Genres')\n",
    "plt.ylabel('Production Budget ($million)')\n",
    "plt.show()"
   ]
  },
  {
   "cell_type": "markdown",
   "metadata": {},
   "source": [
    "## Closer look at Profit and Revenue trends of top-performing genres\n",
    "Horror genre stood out as having one of the lowest budgets on average while scoring the top profit multiple! We take a closer look at Horror movies' profitability trends over years, and compare it to all other genres. "
   ]
  },
  {
   "cell_type": "code",
   "execution_count": 26,
   "metadata": {},
   "outputs": [
    {
     "data": {
      "text/plain": [
       "(5930, 19)"
      ]
     },
     "execution_count": 26,
     "metadata": {},
     "output_type": "execute_result"
    }
   ],
   "source": [
    "# First we break out each genre into separate rows. This gives us 5930 rows to work with. \n",
    "df2 = df.explode('genres3')\n",
    "df2.shape"
   ]
  },
  {
   "cell_type": "code",
   "execution_count": 27,
   "metadata": {},
   "outputs": [],
   "source": [
    "# Calculate the average profit multiple by genre and year, save in df3.\n",
    "df3 = df2.groupby(['genres3','start_year'])['profit_multiple'].mean()"
   ]
  },
  {
   "cell_type": "code",
   "execution_count": 28,
   "metadata": {},
   "outputs": [
    {
     "data": {
      "text/html": [
       "<div>\n",
       "<style scoped>\n",
       "    .dataframe tbody tr th:only-of-type {\n",
       "        vertical-align: middle;\n",
       "    }\n",
       "\n",
       "    .dataframe tbody tr th {\n",
       "        vertical-align: top;\n",
       "    }\n",
       "\n",
       "    .dataframe thead th {\n",
       "        text-align: right;\n",
       "    }\n",
       "</style>\n",
       "<table border=\"1\" class=\"dataframe\">\n",
       "  <thead>\n",
       "    <tr style=\"text-align: right;\">\n",
       "      <th></th>\n",
       "      <th>genres3</th>\n",
       "      <th>start_year</th>\n",
       "      <th>profit_multiple</th>\n",
       "    </tr>\n",
       "  </thead>\n",
       "  <tbody>\n",
       "    <tr>\n",
       "      <th>0</th>\n",
       "      <td>Action</td>\n",
       "      <td>2010</td>\n",
       "      <td>1.483806</td>\n",
       "    </tr>\n",
       "    <tr>\n",
       "      <th>1</th>\n",
       "      <td>Action</td>\n",
       "      <td>2011</td>\n",
       "      <td>2.299466</td>\n",
       "    </tr>\n",
       "    <tr>\n",
       "      <th>2</th>\n",
       "      <td>Action</td>\n",
       "      <td>2012</td>\n",
       "      <td>1.849022</td>\n",
       "    </tr>\n",
       "    <tr>\n",
       "      <th>3</th>\n",
       "      <td>Action</td>\n",
       "      <td>2013</td>\n",
       "      <td>1.349947</td>\n",
       "    </tr>\n",
       "    <tr>\n",
       "      <th>4</th>\n",
       "      <td>Action</td>\n",
       "      <td>2014</td>\n",
       "      <td>2.334794</td>\n",
       "    </tr>\n",
       "    <tr>\n",
       "      <th>...</th>\n",
       "      <td>...</td>\n",
       "      <td>...</td>\n",
       "      <td>...</td>\n",
       "    </tr>\n",
       "    <tr>\n",
       "      <th>200</th>\n",
       "      <td>Western</td>\n",
       "      <td>2014</td>\n",
       "      <td>-0.096994</td>\n",
       "    </tr>\n",
       "    <tr>\n",
       "      <th>201</th>\n",
       "      <td>Western</td>\n",
       "      <td>2015</td>\n",
       "      <td>-0.849146</td>\n",
       "    </tr>\n",
       "    <tr>\n",
       "      <th>202</th>\n",
       "      <td>Western</td>\n",
       "      <td>2016</td>\n",
       "      <td>0.805835</td>\n",
       "    </tr>\n",
       "    <tr>\n",
       "      <th>203</th>\n",
       "      <td>Western</td>\n",
       "      <td>2018</td>\n",
       "      <td>-0.947879</td>\n",
       "    </tr>\n",
       "    <tr>\n",
       "      <th>204</th>\n",
       "      <td>Western</td>\n",
       "      <td>2019</td>\n",
       "      <td>0.072129</td>\n",
       "    </tr>\n",
       "  </tbody>\n",
       "</table>\n",
       "<p>195 rows × 3 columns</p>\n",
       "</div>"
      ],
      "text/plain": [
       "     genres3  start_year  profit_multiple\n",
       "0     Action        2010         1.483806\n",
       "1     Action        2011         2.299466\n",
       "2     Action        2012         1.849022\n",
       "3     Action        2013         1.349947\n",
       "4     Action        2014         2.334794\n",
       "..       ...         ...              ...\n",
       "200  Western        2014        -0.096994\n",
       "201  Western        2015        -0.849146\n",
       "202  Western        2016         0.805835\n",
       "203  Western        2018        -0.947879\n",
       "204  Western        2019         0.072129\n",
       "\n",
       "[195 rows x 3 columns]"
      ]
     },
     "execution_count": 28,
     "metadata": {},
     "output_type": "execute_result"
    }
   ],
   "source": [
    "# Exclude Horror genre and save in df4. \n",
    "df4 = df3.reset_index(level=['genres3','start_year'])\n",
    "df4 = df4[df4['genres3'] != 'Horror']\n",
    "df4"
   ]
  },
  {
   "cell_type": "code",
   "execution_count": 29,
   "metadata": {},
   "outputs": [
    {
     "data": {
      "text/plain": [
       "Music          10\n",
       "Drama          10\n",
       "Fantasy        10\n",
       "War            10\n",
       "Animation      10\n",
       "Family         10\n",
       "Crime          10\n",
       "Comedy         10\n",
       "Adventure      10\n",
       "Documentary    10\n",
       "History        10\n",
       "Sci-Fi         10\n",
       "Mystery        10\n",
       "Thriller       10\n",
       "Romance        10\n",
       "Biography      10\n",
       "Action         10\n",
       "Western         9\n",
       "Sport           8\n",
       "Musical         6\n",
       "News            2\n",
       "Name: genres3, dtype: int64"
      ]
     },
     "execution_count": 29,
     "metadata": {},
     "output_type": "execute_result"
    }
   ],
   "source": [
    "df4.genres3.value_counts()"
   ]
  },
  {
   "cell_type": "code",
   "execution_count": 30,
   "metadata": {},
   "outputs": [
    {
     "data": {
      "image/png": "[encoded data removed]",
      "text/plain": [
       "<Figure size 1296x576 with 1 Axes>"
      ]
     },
     "metadata": {
      "needs_background": "light"
     },
     "output_type": "display_data"
    }
   ],
   "source": [
    "# Then we plot the average profit multiple for Horror movies vs. all other genre types over time\n",
    "df4 = df3.reset_index(level=['genres3','start_year'])\n",
    "df4 = df4[df4['genres3'] != 'Horror']\n",
    "\n",
    "plt.figure(figsize = (18,8))\n",
    "plt.plot(df3.Horror, color = 'red', label = 'Horror')\n",
    "plt.plot(df4.groupby(['start_year'])['profit_multiple'].mean(), label = 'Other genres')\n",
    "plt.title('Profitability of Horror movies vs. Other genres')\n",
    "plt.xlabel('Years')\n",
    "plt.ylabel('Average Profit Multiple')\n",
    "plt.legend()\n",
    "plt.show()"
   ]
  },
  {
   "cell_type": "markdown",
   "metadata": {},
   "source": [
    "We also look at the top revenue-generating genre, Adventure, and compare its average revenue to all other genres. "
   ]
  },
  {
   "cell_type": "code",
   "execution_count": 31,
   "metadata": {},
   "outputs": [
    {
     "data": {
      "image/png": "[encoded data removed]",
      "text/plain": [
       "<Figure size 1296x576 with 1 Axes>"
      ]
     },
     "metadata": {
      "needs_background": "light"
     },
     "output_type": "display_data"
    }
   ],
   "source": [
    "# Plot the average revenue of Action movies vs. all other genres over years. \n",
    "\n",
    "# Calculate the average revenue by genre and year, save in df5.\n",
    "df5 = df2.groupby(['genres3','start_year'])['worldwide_gross_2'].mean()\n",
    "\n",
    "df6 = df5.reset_index(level=['genres3','start_year'])\n",
    "df6 = df6[(df6['genres3'] != 'Adventure')]\n",
    "\n",
    "plt.figure(figsize = (18,8))\n",
    "plt.plot(df5['Adventure']/1000000, color = 'orange', label = 'Adventure')\n",
    "plt.plot(df6.groupby(['start_year'])['worldwide_gross_2'].mean()/1000000, label = 'Other genres')\n",
    "plt.title('Box Office of Adventure movies vs. Other genres')\n",
    "plt.xlabel('Years')\n",
    "plt.ylabel('Average Worldwide Gross Revenue ($M)')\n",
    "plt.legend()\n",
    "plt.show()"
   ]
  },
  {
   "cell_type": "code",
   "execution_count": 32,
   "metadata": {},
   "outputs": [],
   "source": [
    "import mysql.connector\n",
    "\n",
    "con = mysql.connector.connect(user='hbs-student', password='super-secure-password?',\n",
    "                              host='hbs-ds-060120.c1doesqrid0e.us-east-1.rds.amazonaws.com',\n",
    "                              database='movies')\n",
    "\n",
    "df7 = pd.read_sql_query(\"\"\"\n",
    "SELECT primary_title, runtime_minutes, genres, averagerating, \n",
    "numvotes, ordering, category, job, characters, id, release_date, \n",
    "production_budget, domestic_gross, worldwide_gross, primary_name\n",
    "FROM imdb_title_basics ba\n",
    "JOIN imdb_title_ratings r ON ba.tconst = r.tconst\n",
    "JOIN imdb_title_principals p ON p.tconst = ba.tconst\n",
    "JOIN imdb_name_basics na ON na.nconst = p.nconst\n",
    "LEFT JOIN movies.tn_movie_budgets bud ON bud.movie = ba.primary_title\n",
    "\"\"\", con)"
   ]
  },
  {
   "cell_type": "code",
   "execution_count": 34,
   "metadata": {},
   "outputs": [
    {
     "data": {
      "text/html": [
       "<div>\n",
       "<style scoped>\n",
       "    .dataframe tbody tr th:only-of-type {\n",
       "        vertical-align: middle;\n",
       "    }\n",
       "\n",
       "    .dataframe tbody tr th {\n",
       "        vertical-align: top;\n",
       "    }\n",
       "\n",
       "    .dataframe thead th {\n",
       "        text-align: right;\n",
       "    }\n",
       "</style>\n",
       "<table border=\"1\" class=\"dataframe\">\n",
       "  <thead>\n",
       "    <tr style=\"text-align: right;\">\n",
       "      <th></th>\n",
       "      <th>primary_title</th>\n",
       "      <th>runtime_minutes</th>\n",
       "      <th>genres</th>\n",
       "      <th>averagerating</th>\n",
       "      <th>numvotes</th>\n",
       "      <th>ordering</th>\n",
       "      <th>category</th>\n",
       "      <th>job</th>\n",
       "      <th>characters</th>\n",
       "      <th>id</th>\n",
       "      <th>release_date</th>\n",
       "      <th>production_budget</th>\n",
       "      <th>domestic_gross</th>\n",
       "      <th>worldwide_gross</th>\n",
       "      <th>primary_name</th>\n",
       "    </tr>\n",
       "  </thead>\n",
       "  <tbody>\n",
       "    <tr>\n",
       "      <th>0</th>\n",
       "      <td>Sunghursh</td>\n",
       "      <td>175.0</td>\n",
       "      <td>Action,Crime,Drama</td>\n",
       "      <td>7.0</td>\n",
       "      <td>77</td>\n",
       "      <td>10</td>\n",
       "      <td>composer</td>\n",
       "      <td></td>\n",
       "      <td></td>\n",
       "      <td>NaN</td>\n",
       "      <td>None</td>\n",
       "      <td>None</td>\n",
       "      <td>None</td>\n",
       "      <td>None</td>\n",
       "      <td>Naushad</td>\n",
       "    </tr>\n",
       "    <tr>\n",
       "      <th>1</th>\n",
       "      <td>Sunghursh</td>\n",
       "      <td>175.0</td>\n",
       "      <td>Action,Crime,Drama</td>\n",
       "      <td>7.0</td>\n",
       "      <td>77</td>\n",
       "      <td>1</td>\n",
       "      <td>actor</td>\n",
       "      <td></td>\n",
       "      <td>[\"Kundan S. Prasad\",\"Bajrangi\"]</td>\n",
       "      <td>NaN</td>\n",
       "      <td>None</td>\n",
       "      <td>None</td>\n",
       "      <td>None</td>\n",
       "      <td>None</td>\n",
       "      <td>Dilip Kumar</td>\n",
       "    </tr>\n",
       "    <tr>\n",
       "      <th>2</th>\n",
       "      <td>Sunghursh</td>\n",
       "      <td>175.0</td>\n",
       "      <td>Action,Crime,Drama</td>\n",
       "      <td>7.0</td>\n",
       "      <td>77</td>\n",
       "      <td>2</td>\n",
       "      <td>actress</td>\n",
       "      <td></td>\n",
       "      <td>[\"Munni\",\"Laila-E-Aasmaan\"]</td>\n",
       "      <td>NaN</td>\n",
       "      <td>None</td>\n",
       "      <td>None</td>\n",
       "      <td>None</td>\n",
       "      <td>None</td>\n",
       "      <td>Vyjayanthimala</td>\n",
       "    </tr>\n",
       "    <tr>\n",
       "      <th>3</th>\n",
       "      <td>Sunghursh</td>\n",
       "      <td>175.0</td>\n",
       "      <td>Action,Crime,Drama</td>\n",
       "      <td>7.0</td>\n",
       "      <td>77</td>\n",
       "      <td>3</td>\n",
       "      <td>actor</td>\n",
       "      <td></td>\n",
       "      <td>[\"Ganeshi N. Prasad\"]</td>\n",
       "      <td>NaN</td>\n",
       "      <td>None</td>\n",
       "      <td>None</td>\n",
       "      <td>None</td>\n",
       "      <td>None</td>\n",
       "      <td>Balraj Sahni</td>\n",
       "    </tr>\n",
       "    <tr>\n",
       "      <th>4</th>\n",
       "      <td>Sunghursh</td>\n",
       "      <td>175.0</td>\n",
       "      <td>Action,Crime,Drama</td>\n",
       "      <td>7.0</td>\n",
       "      <td>77</td>\n",
       "      <td>4</td>\n",
       "      <td>actor</td>\n",
       "      <td></td>\n",
       "      <td>[\"Dwarka N. Prasad\"]</td>\n",
       "      <td>NaN</td>\n",
       "      <td>None</td>\n",
       "      <td>None</td>\n",
       "      <td>None</td>\n",
       "      <td>None</td>\n",
       "      <td>Sanjeev Kumar</td>\n",
       "    </tr>\n",
       "  </tbody>\n",
       "</table>\n",
       "</div>"
      ],
      "text/plain": [
       "  primary_title  runtime_minutes              genres  averagerating  numvotes  \\\n",
       "0     Sunghursh            175.0  Action,Crime,Drama            7.0        77   \n",
       "1     Sunghursh            175.0  Action,Crime,Drama            7.0        77   \n",
       "2     Sunghursh            175.0  Action,Crime,Drama            7.0        77   \n",
       "3     Sunghursh            175.0  Action,Crime,Drama            7.0        77   \n",
       "4     Sunghursh            175.0  Action,Crime,Drama            7.0        77   \n",
       "\n",
       "   ordering  category job                       characters  id release_date  \\\n",
       "0        10  composer                                      NaN         None   \n",
       "1         1     actor      [\"Kundan S. Prasad\",\"Bajrangi\"] NaN         None   \n",
       "2         2   actress          [\"Munni\",\"Laila-E-Aasmaan\"] NaN         None   \n",
       "3         3     actor                [\"Ganeshi N. Prasad\"] NaN         None   \n",
       "4         4     actor                 [\"Dwarka N. Prasad\"] NaN         None   \n",
       "\n",
       "  production_budget domestic_gross worldwide_gross    primary_name  \n",
       "0              None           None            None         Naushad  \n",
       "1              None           None            None     Dilip Kumar  \n",
       "2              None           None            None  Vyjayanthimala  \n",
       "3              None           None            None    Balraj Sahni  \n",
       "4              None           None            None   Sanjeev Kumar  "
      ]
     },
     "execution_count": 34,
     "metadata": {},
     "output_type": "execute_result"
    }
   ],
   "source": [
    "df7.head()"
   ]
  },
  {
   "cell_type": "code",
   "execution_count": null,
   "metadata": {},
   "outputs": [],
   "source": []
  }
 ],
 "metadata": {
  "kernelspec": {
   "display_name": "Python 3",
   "language": "python",
   "name": "python3"
  },
  "language_info": {
   "codemirror_mode": {
    "name": "ipython",
    "version": 3
   },
   "file_extension": ".py",
   "mimetype": "text/x-python",
   "name": "python",
   "nbconvert_exporter": "python",
   "pygments_lexer": "ipython3",
   "version": "3.7.6"
  }
 },
 "nbformat": 4,
 "nbformat_minor": 4
}
