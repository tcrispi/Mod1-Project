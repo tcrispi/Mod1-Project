{
 "cells": [
  {
   "cell_type": "code",
   "execution_count": null,
   "metadata": {},
   "outputs": [],
   "source": [
    "\n",
    "\n",
    "q1 = \"\"\"SELECT * FROM movies.imdb_title_basics\n",
    "JOIN imdb_title_ratings USING (tconst)\"\"\""
   ]
  },
  {
   "cell_type": "code",
   "execution_count": null,
   "metadata": {},
   "outputs": [],
   "source": [
    "# error code 2013 lost connection\n",
    "q2 = \"\"\"\n",
    "SELECT * FROM movies.imdb_title_basics\n",
    "JOIN imdb_title_ratings USING (tconst)\n",
    "JOIN imdb_title_principals USING (tconst)\n",
    "\"\"\""
   ]
  },
  {
   "cell_type": "markdown",
   "metadata": {},
   "source": [
    "to-do for 6.17 PM: \n",
    "- join name & principals by inspecting a few familiar titles\n",
    "- filter basics table to select recently produced movies\n",
    "- join movie name and budget --> profit! "
   ]
  }
 ],
 "metadata": {
  "kernelspec": {
   "display_name": "Python 3",
   "language": "python",
   "name": "python3"
  },
  "language_info": {
   "codemirror_mode": {
    "name": "ipython",
    "version": 3
   },
   "file_extension": ".py",
   "mimetype": "text/x-python",
   "name": "python",
   "nbconvert_exporter": "python",
   "pygments_lexer": "ipython3",
   "version": "3.7.6"
  }
 },
 "nbformat": 4,
 "nbformat_minor": 4
}
