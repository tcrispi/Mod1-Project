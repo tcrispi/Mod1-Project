{
 "cells": [
  {
   "cell_type": "code",
   "execution_count": null,
   "metadata": {},
   "outputs": [],
   "source": [
    "q1 = \"\"\"SELECT * FROM movies.imdb_title_basics\n",
    "JOIN imdb_title_ratings USING (tconst)\"\"\""
   ]
  },
  {
   "cell_type": "code",
   "execution_count": null,
   "metadata": {},
   "outputs": [],
   "source": [
    "# error code 2013 lost connection\n",
    "q2 = \"\"\"\n",
    "SELECT * FROM movies.imdb_title_basics\n",
    "JOIN imdb_title_ratings USING (tconst)\n",
    "JOIN imdb_title_principals USING (tconst)\n",
    "\"\"\""
   ]
  },
  {
   "cell_type": "markdown",
   "metadata": {},
   "source": [
    "to-do for 6.17 PM: \n",
    "- join name & principals by inspecting a few familiar titles\n",
    "- filter basics table to select recently produced movies\n",
    "- join movie name and budget --> profit! "
   ]
  },
  {
   "cell_type": "markdown",
   "metadata": {},
   "source": [
    "Questions we can decide on: \n",
    "- do we want top box office or top profits? \n",
    "- how many films do we want to look at? \n",
    "- visualization scheme that makes sense for each data type"
   ]
  },
  {
   "cell_type": "code",
   "execution_count": 25,
   "metadata": {},
   "outputs": [],
   "source": [
    "import pandas as pd\n",
    "import numpy as np"
   ]
  },
  {
   "cell_type": "code",
   "execution_count": 26,
   "metadata": {},
   "outputs": [],
   "source": [
    "import mysql.connector\n",
    "\n",
    "con = mysql.connector.connect(user='hbs-student', password='super-secure-password?',\n",
    "                              host='hbs-ds-060120.c1doesqrid0e.us-east-1.rds.amazonaws.com',\n",
    "                              database='movies')"
   ]
  },
  {
   "cell_type": "code",
   "execution_count": 27,
   "metadata": {},
   "outputs": [],
   "source": [
    "df2 = pd.read_sql_query(\"\"\"\n",
    "SELECT primary_title, runtime_minutes, genres, averagerating, \n",
    "numvotes, ordering, category, job, characters, id, release_date, \n",
    "production_budget, domestic_gross, worldwide_gross, primary_name\n",
    "FROM imdb_title_basics ba\n",
    "JOIN imdb_title_ratings r ON ba.tconst = r.tconst\n",
    "JOIN imdb_title_principals p ON p.tconst = ba.tconst\n",
    "JOIN imdb_name_basics na ON na.nconst = p.nconst\n",
    "LEFT JOIN movies.tn_movie_budgets bud ON bud.movie = ba.primary_title\n",
    "\"\"\", con)"
   ]
  },
  {
   "cell_type": "code",
   "execution_count": 31,
   "metadata": {},
   "outputs": [
    {
     "data": {
      "text/html": [
       "<div>\n",
       "<style scoped>\n",
       "    .dataframe tbody tr th:only-of-type {\n",
       "        vertical-align: middle;\n",
       "    }\n",
       "\n",
       "    .dataframe tbody tr th {\n",
       "        vertical-align: top;\n",
       "    }\n",
       "\n",
       "    .dataframe thead th {\n",
       "        text-align: right;\n",
       "    }\n",
       "</style>\n",
       "<table border=\"1\" class=\"dataframe\">\n",
       "  <thead>\n",
       "    <tr style=\"text-align: right;\">\n",
       "      <th></th>\n",
       "      <th>primary_title</th>\n",
       "      <th>runtime_minutes</th>\n",
       "      <th>genres</th>\n",
       "      <th>averagerating</th>\n",
       "      <th>numvotes</th>\n",
       "      <th>ordering</th>\n",
       "      <th>category</th>\n",
       "      <th>job</th>\n",
       "      <th>characters</th>\n",
       "      <th>id</th>\n",
       "      <th>release_date</th>\n",
       "      <th>production_budget</th>\n",
       "      <th>domestic_gross</th>\n",
       "      <th>worldwide_gross</th>\n",
       "      <th>primary_name</th>\n",
       "    </tr>\n",
       "  </thead>\n",
       "  <tbody>\n",
       "    <tr>\n",
       "      <th>0</th>\n",
       "      <td>Sunghursh</td>\n",
       "      <td>175.0</td>\n",
       "      <td>Action,Crime,Drama</td>\n",
       "      <td>7.0</td>\n",
       "      <td>77</td>\n",
       "      <td>10</td>\n",
       "      <td>composer</td>\n",
       "      <td></td>\n",
       "      <td></td>\n",
       "      <td>NaN</td>\n",
       "      <td>None</td>\n",
       "      <td>None</td>\n",
       "      <td>None</td>\n",
       "      <td>None</td>\n",
       "      <td>Naushad</td>\n",
       "    </tr>\n",
       "    <tr>\n",
       "      <th>1</th>\n",
       "      <td>Sunghursh</td>\n",
       "      <td>175.0</td>\n",
       "      <td>Action,Crime,Drama</td>\n",
       "      <td>7.0</td>\n",
       "      <td>77</td>\n",
       "      <td>1</td>\n",
       "      <td>actor</td>\n",
       "      <td></td>\n",
       "      <td>[\"Kundan S. Prasad\",\"Bajrangi\"]</td>\n",
       "      <td>NaN</td>\n",
       "      <td>None</td>\n",
       "      <td>None</td>\n",
       "      <td>None</td>\n",
       "      <td>None</td>\n",
       "      <td>Dilip Kumar</td>\n",
       "    </tr>\n",
       "    <tr>\n",
       "      <th>2</th>\n",
       "      <td>Sunghursh</td>\n",
       "      <td>175.0</td>\n",
       "      <td>Action,Crime,Drama</td>\n",
       "      <td>7.0</td>\n",
       "      <td>77</td>\n",
       "      <td>2</td>\n",
       "      <td>actress</td>\n",
       "      <td></td>\n",
       "      <td>[\"Munni\",\"Laila-E-Aasmaan\"]</td>\n",
       "      <td>NaN</td>\n",
       "      <td>None</td>\n",
       "      <td>None</td>\n",
       "      <td>None</td>\n",
       "      <td>None</td>\n",
       "      <td>Vyjayanthimala</td>\n",
       "    </tr>\n",
       "    <tr>\n",
       "      <th>3</th>\n",
       "      <td>Sunghursh</td>\n",
       "      <td>175.0</td>\n",
       "      <td>Action,Crime,Drama</td>\n",
       "      <td>7.0</td>\n",
       "      <td>77</td>\n",
       "      <td>3</td>\n",
       "      <td>actor</td>\n",
       "      <td></td>\n",
       "      <td>[\"Ganeshi N. Prasad\"]</td>\n",
       "      <td>NaN</td>\n",
       "      <td>None</td>\n",
       "      <td>None</td>\n",
       "      <td>None</td>\n",
       "      <td>None</td>\n",
       "      <td>Balraj Sahni</td>\n",
       "    </tr>\n",
       "    <tr>\n",
       "      <th>4</th>\n",
       "      <td>Sunghursh</td>\n",
       "      <td>175.0</td>\n",
       "      <td>Action,Crime,Drama</td>\n",
       "      <td>7.0</td>\n",
       "      <td>77</td>\n",
       "      <td>4</td>\n",
       "      <td>actor</td>\n",
       "      <td></td>\n",
       "      <td>[\"Dwarka N. Prasad\"]</td>\n",
       "      <td>NaN</td>\n",
       "      <td>None</td>\n",
       "      <td>None</td>\n",
       "      <td>None</td>\n",
       "      <td>None</td>\n",
       "      <td>Sanjeev Kumar</td>\n",
       "    </tr>\n",
       "  </tbody>\n",
       "</table>\n",
       "</div>"
      ],
      "text/plain": [
       "  primary_title  runtime_minutes              genres  averagerating  numvotes  \\\n",
       "0     Sunghursh            175.0  Action,Crime,Drama            7.0        77   \n",
       "1     Sunghursh            175.0  Action,Crime,Drama            7.0        77   \n",
       "2     Sunghursh            175.0  Action,Crime,Drama            7.0        77   \n",
       "3     Sunghursh            175.0  Action,Crime,Drama            7.0        77   \n",
       "4     Sunghursh            175.0  Action,Crime,Drama            7.0        77   \n",
       "\n",
       "   ordering  category job                       characters  id release_date  \\\n",
       "0        10  composer                                      NaN         None   \n",
       "1         1     actor      [\"Kundan S. Prasad\",\"Bajrangi\"] NaN         None   \n",
       "2         2   actress          [\"Munni\",\"Laila-E-Aasmaan\"] NaN         None   \n",
       "3         3     actor                [\"Ganeshi N. Prasad\"] NaN         None   \n",
       "4         4     actor                 [\"Dwarka N. Prasad\"] NaN         None   \n",
       "\n",
       "  production_budget domestic_gross worldwide_gross    primary_name  \n",
       "0              None           None            None         Naushad  \n",
       "1              None           None            None     Dilip Kumar  \n",
       "2              None           None            None  Vyjayanthimala  \n",
       "3              None           None            None    Balraj Sahni  \n",
       "4              None           None            None   Sanjeev Kumar  "
      ]
     },
     "execution_count": 31,
     "metadata": {},
     "output_type": "execute_result"
    }
   ],
   "source": [
    "df2.head()"
   ]
  },
  {
   "cell_type": "code",
   "execution_count": 18,
   "metadata": {},
   "outputs": [
    {
     "data": {
      "text/plain": [
       "(630744, 15)"
      ]
     },
     "execution_count": 18,
     "metadata": {},
     "output_type": "execute_result"
    }
   ],
   "source": [
    "df2.shape"
   ]
  },
  {
   "cell_type": "code",
   "execution_count": 14,
   "metadata": {},
   "outputs": [],
   "source": [
    "df.to_csv('data/title_budgets.csv')"
   ]
  },
  {
   "cell_type": "code",
   "execution_count": 32,
   "metadata": {},
   "outputs": [
    {
     "name": "stdout",
     "output_type": "stream",
     "text": [
      "<class 'pandas.core.frame.DataFrame'>\n",
      "RangeIndex: 630744 entries, 0 to 630743\n",
      "Data columns (total 15 columns):\n",
      " #   Column             Non-Null Count   Dtype  \n",
      "---  ------             --------------   -----  \n",
      " 0   primary_title      630744 non-null  object \n",
      " 1   runtime_minutes    568730 non-null  float64\n",
      " 2   genres             630744 non-null  object \n",
      " 3   averagerating      630744 non-null  float64\n",
      " 4   numvotes           630744 non-null  int64  \n",
      " 5   ordering           630744 non-null  int64  \n",
      " 6   category           630744 non-null  object \n",
      " 7   job                630744 non-null  object \n",
      " 8   characters         630744 non-null  object \n",
      " 9   id                 27806 non-null   float64\n",
      " 10  release_date       27806 non-null   object \n",
      " 11  production_budget  27806 non-null   object \n",
      " 12  domestic_gross     27806 non-null   object \n",
      " 13  worldwide_gross    27806 non-null   object \n",
      " 14  primary_name       630744 non-null  object \n",
      "dtypes: float64(3), int64(2), object(10)\n",
      "memory usage: 72.2+ MB\n"
     ]
    }
   ],
   "source": [
    "df2.info()"
   ]
  },
  {
   "cell_type": "code",
   "execution_count": null,
   "metadata": {},
   "outputs": [],
   "source": []
  }
 ],
 "metadata": {
  "kernelspec": {
   "display_name": "Python 3",
   "language": "python",
   "name": "python3"
  },
  "language_info": {
   "codemirror_mode": {
    "name": "ipython",
    "version": 3
   },
   "file_extension": ".py",
   "mimetype": "text/x-python",
   "name": "python",
   "nbconvert_exporter": "python",
   "pygments_lexer": "ipython3",
   "version": "3.7.6"
  }
 },
 "nbformat": 4,
 "nbformat_minor": 4
}
